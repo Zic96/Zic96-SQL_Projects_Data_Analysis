{
 "cells": [
  {
   "cell_type": "markdown",
   "metadata": {},
   "source": [
    "# Imports"
   ]
  },
  {
   "cell_type": "code",
   "execution_count": 1,
   "metadata": {
    "ExecuteTime": {
     "end_time": "2021-05-28T13:52:37.869208Z",
     "start_time": "2021-05-28T13:52:37.253343Z"
    }
   },
   "outputs": [],
   "source": [
    "import matplotlib\n",
    "import pandas as pd\n",
    "import matplotlib.pyplot as plt\n",
    "from matplotlib import style\n",
    "import matplotlib as mpl\n",
    "from sqlalchemy import create_engine\n",
    "import psycopg2\n",
    "\n",
    "%matplotlib inline  "
   ]
  },
  {
   "cell_type": "code",
   "execution_count": null,
   "metadata": {},
   "outputs": [],
   "source": [
    "# Load credentials from json file\n",
    "with open(\"credentials.json\", \"r\") as file:  \n",
    "    creds = json.load(file)\n",
    "\n",
    "USERNAME = creds['USERNAME']\n",
    "PASSWORD = creds['PASSWORD']"
   ]
  },
  {
   "cell_type": "markdown",
   "metadata": {
    "ExecuteTime": {
     "end_time": "2019-05-16T20:56:14.685916Z",
     "start_time": "2019-05-16T20:56:14.682909Z"
    }
   },
   "source": [
    "# Connect to the db"
   ]
  },
  {
   "cell_type": "code",
   "execution_count": 2,
   "metadata": {
    "ExecuteTime": {
     "end_time": "2021-05-28T13:52:38.290896Z",
     "start_time": "2021-05-28T13:52:37.870933Z"
    }
   },
   "outputs": [
    {
     "name": "stdout",
     "output_type": "stream",
     "text": [
      "Database session created\n"
     ]
    }
   ],
   "source": [
    "#create the engine and connection\n",
    "engine = create_engine('postgresql+psycopg2:'\\\n",
    "                       USERNAME\\\n",
    "                       PASSWORD\\\n",
    "                       '@49.12.227.17:5432/'\\\n",
    "                       'lahman2017')\n",
    "\n",
    "print('Database session created')\n",
    "con = engine.connect()"
   ]
  },
  {
   "cell_type": "code",
   "execution_count": 3,
   "metadata": {
    "ExecuteTime": {
     "end_time": "2021-05-28T13:52:38.349563Z",
     "start_time": "2021-05-28T13:52:38.297395Z"
    }
   },
   "outputs": [
    {
     "data": {
      "text/html": [
       "<div>\n",
       "<style scoped>\n",
       "    .dataframe tbody tr th:only-of-type {\n",
       "        vertical-align: middle;\n",
       "    }\n",
       "\n",
       "    .dataframe tbody tr th {\n",
       "        vertical-align: top;\n",
       "    }\n",
       "\n",
       "    .dataframe thead th {\n",
       "        text-align: right;\n",
       "    }\n",
       "</style>\n",
       "<table border=\"1\" class=\"dataframe\">\n",
       "  <thead>\n",
       "    <tr style=\"text-align: right;\">\n",
       "      <th></th>\n",
       "      <th>table_name</th>\n",
       "    </tr>\n",
       "  </thead>\n",
       "  <tbody>\n",
       "    <tr>\n",
       "      <th>0</th>\n",
       "      <td>allstarfull</td>\n",
       "    </tr>\n",
       "    <tr>\n",
       "      <th>1</th>\n",
       "      <td>appearances</td>\n",
       "    </tr>\n",
       "    <tr>\n",
       "      <th>2</th>\n",
       "      <td>awardsmanagers</td>\n",
       "    </tr>\n",
       "    <tr>\n",
       "      <th>3</th>\n",
       "      <td>awardsplayers</td>\n",
       "    </tr>\n",
       "    <tr>\n",
       "      <th>4</th>\n",
       "      <td>awardssharemanagers</td>\n",
       "    </tr>\n",
       "    <tr>\n",
       "      <th>5</th>\n",
       "      <td>awardsshareplayers</td>\n",
       "    </tr>\n",
       "    <tr>\n",
       "      <th>6</th>\n",
       "      <td>batting</td>\n",
       "    </tr>\n",
       "    <tr>\n",
       "      <th>7</th>\n",
       "      <td>battingpost</td>\n",
       "    </tr>\n",
       "    <tr>\n",
       "      <th>8</th>\n",
       "      <td>collegeplaying</td>\n",
       "    </tr>\n",
       "    <tr>\n",
       "      <th>9</th>\n",
       "      <td>fielding</td>\n",
       "    </tr>\n",
       "    <tr>\n",
       "      <th>10</th>\n",
       "      <td>fieldingof</td>\n",
       "    </tr>\n",
       "    <tr>\n",
       "      <th>11</th>\n",
       "      <td>fieldingofsplit</td>\n",
       "    </tr>\n",
       "    <tr>\n",
       "      <th>12</th>\n",
       "      <td>fieldingpost</td>\n",
       "    </tr>\n",
       "    <tr>\n",
       "      <th>13</th>\n",
       "      <td>halloffame</td>\n",
       "    </tr>\n",
       "    <tr>\n",
       "      <th>14</th>\n",
       "      <td>homegames</td>\n",
       "    </tr>\n",
       "    <tr>\n",
       "      <th>15</th>\n",
       "      <td>managers</td>\n",
       "    </tr>\n",
       "    <tr>\n",
       "      <th>16</th>\n",
       "      <td>managershalf</td>\n",
       "    </tr>\n",
       "    <tr>\n",
       "      <th>17</th>\n",
       "      <td>master</td>\n",
       "    </tr>\n",
       "    <tr>\n",
       "      <th>18</th>\n",
       "      <td>parks</td>\n",
       "    </tr>\n",
       "    <tr>\n",
       "      <th>19</th>\n",
       "      <td>pitching</td>\n",
       "    </tr>\n",
       "    <tr>\n",
       "      <th>20</th>\n",
       "      <td>pitchingpost</td>\n",
       "    </tr>\n",
       "    <tr>\n",
       "      <th>21</th>\n",
       "      <td>salaries</td>\n",
       "    </tr>\n",
       "    <tr>\n",
       "      <th>22</th>\n",
       "      <td>schools</td>\n",
       "    </tr>\n",
       "    <tr>\n",
       "      <th>23</th>\n",
       "      <td>seriespost</td>\n",
       "    </tr>\n",
       "    <tr>\n",
       "      <th>24</th>\n",
       "      <td>teams</td>\n",
       "    </tr>\n",
       "    <tr>\n",
       "      <th>25</th>\n",
       "      <td>teamsfranchises</td>\n",
       "    </tr>\n",
       "    <tr>\n",
       "      <th>26</th>\n",
       "      <td>teamshalf</td>\n",
       "    </tr>\n",
       "  </tbody>\n",
       "</table>\n",
       "</div>"
      ],
      "text/plain": [
       "             table_name\n",
       "0           allstarfull\n",
       "1           appearances\n",
       "2        awardsmanagers\n",
       "3         awardsplayers\n",
       "4   awardssharemanagers\n",
       "5    awardsshareplayers\n",
       "6               batting\n",
       "7           battingpost\n",
       "8        collegeplaying\n",
       "9              fielding\n",
       "10           fieldingof\n",
       "11      fieldingofsplit\n",
       "12         fieldingpost\n",
       "13           halloffame\n",
       "14            homegames\n",
       "15             managers\n",
       "16         managershalf\n",
       "17               master\n",
       "18                parks\n",
       "19             pitching\n",
       "20         pitchingpost\n",
       "21             salaries\n",
       "22              schools\n",
       "23           seriespost\n",
       "24                teams\n",
       "25      teamsfranchises\n",
       "26            teamshalf"
      ]
     },
     "execution_count": 3,
     "metadata": {},
     "output_type": "execute_result"
    }
   ],
   "source": [
    "df = pd.read_sql_query(\"\"\"\n",
    "SELECT table_name\n",
    "FROM information_schema.tables\n",
    "WHERE table_schema = 'public'\n",
    "ORDER BY table_name;\n",
    "        \"\"\", con)\n",
    "df"
   ]
  },
  {
   "cell_type": "markdown",
   "metadata": {},
   "source": [
    "# Run queries"
   ]
  },
  {
   "cell_type": "markdown",
   "metadata": {},
   "source": [
    "## Q1 Which player hit the most home runs in 2002?"
   ]
  },
  {
   "cell_type": "code",
   "execution_count": 4,
   "metadata": {
    "ExecuteTime": {
     "end_time": "2021-05-28T13:52:38.421945Z",
     "start_time": "2021-05-28T13:52:38.352388Z"
    }
   },
   "outputs": [
    {
     "data": {
      "text/html": [
       "<div>\n",
       "<style scoped>\n",
       "    .dataframe tbody tr th:only-of-type {\n",
       "        vertical-align: middle;\n",
       "    }\n",
       "\n",
       "    .dataframe tbody tr th {\n",
       "        vertical-align: top;\n",
       "    }\n",
       "\n",
       "    .dataframe thead th {\n",
       "        text-align: right;\n",
       "    }\n",
       "</style>\n",
       "<table border=\"1\" class=\"dataframe\">\n",
       "  <thead>\n",
       "    <tr style=\"text-align: right;\">\n",
       "      <th></th>\n",
       "      <th>namefirst</th>\n",
       "      <th>namelast</th>\n",
       "    </tr>\n",
       "  </thead>\n",
       "  <tbody>\n",
       "    <tr>\n",
       "      <th>0</th>\n",
       "      <td>Alex</td>\n",
       "      <td>Rodriguez</td>\n",
       "    </tr>\n",
       "  </tbody>\n",
       "</table>\n",
       "</div>"
      ],
      "text/plain": [
       "  namefirst   namelast\n",
       "0      Alex  Rodriguez"
      ]
     },
     "execution_count": 4,
     "metadata": {},
     "output_type": "execute_result"
    }
   ],
   "source": [
    "# USE SET search_path = lahman2017 so you don't have to reference the schema all the time!\n",
    "\n",
    "df = pd.read_sql_query(\"\"\"\n",
    "    SELECT\n",
    "        namefirst,\n",
    "        namelast\n",
    "    From master\n",
    "    WHERE playerid = \n",
    "    (SELECT playerid\n",
    "    FROM batting\n",
    "    WHERE yearid = 2002\n",
    "    ORDER BY HR DESC\n",
    "    LIMIT 1);\n",
    "        \"\"\", con)\n",
    "\n",
    "df"
   ]
  },
  {
   "cell_type": "code",
   "execution_count": 5,
   "metadata": {
    "ExecuteTime": {
     "end_time": "2021-05-28T13:52:38.503050Z",
     "start_time": "2021-05-28T13:52:38.425521Z"
    }
   },
   "outputs": [
    {
     "data": {
      "text/html": [
       "<div>\n",
       "<style scoped>\n",
       "    .dataframe tbody tr th:only-of-type {\n",
       "        vertical-align: middle;\n",
       "    }\n",
       "\n",
       "    .dataframe tbody tr th {\n",
       "        vertical-align: top;\n",
       "    }\n",
       "\n",
       "    .dataframe thead th {\n",
       "        text-align: right;\n",
       "    }\n",
       "</style>\n",
       "<table border=\"1\" class=\"dataframe\">\n",
       "  <thead>\n",
       "    <tr style=\"text-align: right;\">\n",
       "      <th></th>\n",
       "      <th>namefirst</th>\n",
       "      <th>namelast</th>\n",
       "      <th>homeruns</th>\n",
       "    </tr>\n",
       "  </thead>\n",
       "  <tbody>\n",
       "    <tr>\n",
       "      <th>0</th>\n",
       "      <td>Alex</td>\n",
       "      <td>Rodriguez</td>\n",
       "      <td>57</td>\n",
       "    </tr>\n",
       "  </tbody>\n",
       "</table>\n",
       "</div>"
      ],
      "text/plain": [
       "  namefirst   namelast  homeruns\n",
       "0      Alex  Rodriguez        57"
      ]
     },
     "execution_count": 5,
     "metadata": {},
     "output_type": "execute_result"
    }
   ],
   "source": [
    "# with join\n",
    "df = pd.read_sql_query(\"\"\"\n",
    "    SELECT\n",
    "        mas.namefirst,\n",
    "        mas.namelast,\n",
    "        bat.hr AS HomeRuns\n",
    "    FROM batting bat\n",
    "    LEFT JOIN master mas\n",
    "    ON mas.playerid = bat.playerid\n",
    "    WHERE yearid=2002\n",
    "    ORDER BY hr DESC\n",
    "    LIMIT 1;\n",
    "        \"\"\", con)\n",
    "\n",
    "df\n",
    "#--> ANSWER: Alex Rodriguez with 57 homeruns in 2002."
   ]
  },
  {
   "cell_type": "markdown",
   "metadata": {},
   "source": [
    "## Q2 Which team spent the most/least money on player salaries in 2002?"
   ]
  },
  {
   "cell_type": "code",
   "execution_count": 6,
   "metadata": {
    "ExecuteTime": {
     "end_time": "2021-05-28T13:52:38.554462Z",
     "start_time": "2021-05-28T13:52:38.505348Z"
    }
   },
   "outputs": [
    {
     "data": {
      "text/html": [
       "<div>\n",
       "<style scoped>\n",
       "    .dataframe tbody tr th:only-of-type {\n",
       "        vertical-align: middle;\n",
       "    }\n",
       "\n",
       "    .dataframe tbody tr th {\n",
       "        vertical-align: top;\n",
       "    }\n",
       "\n",
       "    .dataframe thead th {\n",
       "        text-align: right;\n",
       "    }\n",
       "</style>\n",
       "<table border=\"1\" class=\"dataframe\">\n",
       "  <thead>\n",
       "    <tr style=\"text-align: right;\">\n",
       "      <th></th>\n",
       "      <th>team</th>\n",
       "      <th>totalsalaries</th>\n",
       "    </tr>\n",
       "  </thead>\n",
       "  <tbody>\n",
       "    <tr>\n",
       "      <th>0</th>\n",
       "      <td>New York Yankees</td>\n",
       "      <td>125928583.0</td>\n",
       "    </tr>\n",
       "  </tbody>\n",
       "</table>\n",
       "</div>"
      ],
      "text/plain": [
       "               team  totalsalaries\n",
       "0  New York Yankees    125928583.0"
      ]
     },
     "execution_count": 6,
     "metadata": {},
     "output_type": "execute_result"
    }
   ],
   "source": [
    "## most money\n",
    "df = pd.read_sql_query(\"\"\"\n",
    "    SELECT\n",
    "        tms.name AS Team, \n",
    "        sum(sal.salary) AS TotalSalaries\n",
    "    FROM salaries AS sal\n",
    "    INNER JOIN teams tms\n",
    "    ON tms.teamid = sal.teamid AND tms.yearid = sal.yearid\n",
    "    WHERE sal.yearid = 2002\n",
    "    GROUP BY sal.teamid, Team\n",
    "    ORDER BY sum(sal.salary)  DESC\n",
    "    LIMIT 1;\n",
    "\"\"\", con)\n",
    "\n",
    "df\n",
    "# --> ANSWER: New York Yankees with USD 125,928,583."
   ]
  },
  {
   "cell_type": "code",
   "execution_count": 7,
   "metadata": {
    "ExecuteTime": {
     "end_time": "2021-05-28T13:52:38.604974Z",
     "start_time": "2021-05-28T13:52:38.560440Z"
    }
   },
   "outputs": [
    {
     "data": {
      "text/html": [
       "<div>\n",
       "<style scoped>\n",
       "    .dataframe tbody tr th:only-of-type {\n",
       "        vertical-align: middle;\n",
       "    }\n",
       "\n",
       "    .dataframe tbody tr th {\n",
       "        vertical-align: top;\n",
       "    }\n",
       "\n",
       "    .dataframe thead th {\n",
       "        text-align: right;\n",
       "    }\n",
       "</style>\n",
       "<table border=\"1\" class=\"dataframe\">\n",
       "  <thead>\n",
       "    <tr style=\"text-align: right;\">\n",
       "      <th></th>\n",
       "      <th>team</th>\n",
       "      <th>totalsalaries</th>\n",
       "    </tr>\n",
       "  </thead>\n",
       "  <tbody>\n",
       "    <tr>\n",
       "      <th>0</th>\n",
       "      <td>Tampa Bay Devil Rays</td>\n",
       "      <td>34380000.0</td>\n",
       "    </tr>\n",
       "  </tbody>\n",
       "</table>\n",
       "</div>"
      ],
      "text/plain": [
       "                   team  totalsalaries\n",
       "0  Tampa Bay Devil Rays     34380000.0"
      ]
     },
     "execution_count": 7,
     "metadata": {},
     "output_type": "execute_result"
    }
   ],
   "source": [
    "## least money\n",
    "df = pd.read_sql_query(\"\"\"\n",
    "    SELECT\n",
    "        tms.name AS Team, \n",
    "        sum(sal.salary) AS TotalSalaries\n",
    "    FROM salaries AS sal\n",
    "    INNER JOIN teams tms\n",
    "    ON tms.teamid = sal.teamid AND tms.yearid = sal.yearid\n",
    "    WHERE sal.yearid = 2002\n",
    "    GROUP BY sal.teamid, Team\n",
    "    ORDER BY sum(sal.salary)  ASC\n",
    "    LIMIT 1;\n",
    "\"\"\", con)\n",
    "\n",
    "df\n",
    "# --> ANSWER: Tampa Bay Devil Rays with USD 34,380,000."
   ]
  },
  {
   "cell_type": "markdown",
   "metadata": {},
   "source": [
    "## Q3 Which player averaged the fewest at bats between home runs in 2002?"
   ]
  },
  {
   "cell_type": "code",
   "execution_count": 8,
   "metadata": {
    "ExecuteTime": {
     "end_time": "2021-05-28T13:52:38.692028Z",
     "start_time": "2021-05-28T13:52:38.608160Z"
    }
   },
   "outputs": [
    {
     "data": {
      "text/html": [
       "<div>\n",
       "<style scoped>\n",
       "    .dataframe tbody tr th:only-of-type {\n",
       "        vertical-align: middle;\n",
       "    }\n",
       "\n",
       "    .dataframe tbody tr th {\n",
       "        vertical-align: top;\n",
       "    }\n",
       "\n",
       "    .dataframe thead th {\n",
       "        text-align: right;\n",
       "    }\n",
       "</style>\n",
       "<table border=\"1\" class=\"dataframe\">\n",
       "  <thead>\n",
       "    <tr style=\"text-align: right;\">\n",
       "      <th></th>\n",
       "      <th>namefirst</th>\n",
       "      <th>namelast</th>\n",
       "      <th>homeruns</th>\n",
       "      <th>atbats</th>\n",
       "      <th>avg_ab_btw_hr</th>\n",
       "    </tr>\n",
       "  </thead>\n",
       "  <tbody>\n",
       "    <tr>\n",
       "      <th>0</th>\n",
       "      <td>Barry</td>\n",
       "      <td>Bonds</td>\n",
       "      <td>46</td>\n",
       "      <td>403</td>\n",
       "      <td>8.76087</td>\n",
       "    </tr>\n",
       "  </tbody>\n",
       "</table>\n",
       "</div>"
      ],
      "text/plain": [
       "  namefirst namelast  homeruns  atbats  avg_ab_btw_hr\n",
       "0     Barry    Bonds        46     403        8.76087"
      ]
     },
     "execution_count": 8,
     "metadata": {},
     "output_type": "execute_result"
    }
   ],
   "source": [
    "df = pd.read_sql_query(\"\"\"\n",
    "    SELECT\n",
    "        mas.namefirst,\n",
    "        mas.namelast,\n",
    "        bat.hr AS HomeRuns,\n",
    "        bat.ab AS AtBats,\n",
    "        CAST(bat.ab AS FLOAT)/bat.hr AS Avg_AB_btw_HR\n",
    "    FROM batting bat\n",
    "    LEFT JOIN master mas\n",
    "    ON mas.playerid = bat.playerid\n",
    "    WHERE \n",
    "        yearid=2002 AND\n",
    "        bat.hr > 1 --between implies at least two HR\n",
    "    ORDER BY Avg_AB_btw_HR ASC\n",
    "    LIMIT 1;\n",
    "    \"\"\", con)\n",
    "\n",
    "df\n",
    "# --> ANSWER: Barry Bonds with an average of 8.76 at bats between homeruns in 2002."
   ]
  },
  {
   "cell_type": "markdown",
   "metadata": {},
   "source": [
    "## Q4 Which player in 2002 had the highest on-base percentage?"
   ]
  },
  {
   "cell_type": "code",
   "execution_count": 9,
   "metadata": {
    "ExecuteTime": {
     "end_time": "2021-05-28T13:52:38.795859Z",
     "start_time": "2021-05-28T13:52:38.695064Z"
    }
   },
   "outputs": [
    {
     "data": {
      "text/html": [
       "<div>\n",
       "<style scoped>\n",
       "    .dataframe tbody tr th:only-of-type {\n",
       "        vertical-align: middle;\n",
       "    }\n",
       "\n",
       "    .dataframe tbody tr th {\n",
       "        vertical-align: top;\n",
       "    }\n",
       "\n",
       "    .dataframe thead th {\n",
       "        text-align: right;\n",
       "    }\n",
       "</style>\n",
       "<table border=\"1\" class=\"dataframe\">\n",
       "  <thead>\n",
       "    <tr style=\"text-align: right;\">\n",
       "      <th></th>\n",
       "      <th>namefirst</th>\n",
       "      <th>namelast</th>\n",
       "      <th>atbats</th>\n",
       "      <th>hits</th>\n",
       "      <th>basesonballs</th>\n",
       "      <th>hitbypitch</th>\n",
       "      <th>sacrificeflies</th>\n",
       "      <th>obp_in_percent</th>\n",
       "    </tr>\n",
       "  </thead>\n",
       "  <tbody>\n",
       "    <tr>\n",
       "      <th>0</th>\n",
       "      <td>Barry</td>\n",
       "      <td>Bonds</td>\n",
       "      <td>403</td>\n",
       "      <td>149</td>\n",
       "      <td>198</td>\n",
       "      <td>9.0</td>\n",
       "      <td>2.0</td>\n",
       "      <td>58.169935</td>\n",
       "    </tr>\n",
       "    <tr>\n",
       "      <th>1</th>\n",
       "      <td>Mike</td>\n",
       "      <td>Kinkade</td>\n",
       "      <td>50</td>\n",
       "      <td>19</td>\n",
       "      <td>4</td>\n",
       "      <td>6.0</td>\n",
       "      <td>0.0</td>\n",
       "      <td>48.333333</td>\n",
       "    </tr>\n",
       "    <tr>\n",
       "      <th>2</th>\n",
       "      <td>Mark</td>\n",
       "      <td>Loretta</td>\n",
       "      <td>66</td>\n",
       "      <td>28</td>\n",
       "      <td>9</td>\n",
       "      <td>0.0</td>\n",
       "      <td>2.0</td>\n",
       "      <td>48.051948</td>\n",
       "    </tr>\n",
       "    <tr>\n",
       "      <th>3</th>\n",
       "      <td>Brian</td>\n",
       "      <td>Giles</td>\n",
       "      <td>497</td>\n",
       "      <td>148</td>\n",
       "      <td>135</td>\n",
       "      <td>7.0</td>\n",
       "      <td>5.0</td>\n",
       "      <td>45.031056</td>\n",
       "    </tr>\n",
       "    <tr>\n",
       "      <th>4</th>\n",
       "      <td>Manny</td>\n",
       "      <td>Ramirez</td>\n",
       "      <td>436</td>\n",
       "      <td>152</td>\n",
       "      <td>73</td>\n",
       "      <td>8.0</td>\n",
       "      <td>1.0</td>\n",
       "      <td>44.980695</td>\n",
       "    </tr>\n",
       "  </tbody>\n",
       "</table>\n",
       "</div>"
      ],
      "text/plain": [
       "  namefirst namelast  atbats  hits  basesonballs  hitbypitch  sacrificeflies  \\\n",
       "0     Barry    Bonds     403   149           198         9.0             2.0   \n",
       "1      Mike  Kinkade      50    19             4         6.0             0.0   \n",
       "2      Mark  Loretta      66    28             9         0.0             2.0   \n",
       "3     Brian    Giles     497   148           135         7.0             5.0   \n",
       "4     Manny  Ramirez     436   152            73         8.0             1.0   \n",
       "\n",
       "   obp_in_percent  \n",
       "0       58.169935  \n",
       "1       48.333333  \n",
       "2       48.051948  \n",
       "3       45.031056  \n",
       "4       44.980695  "
      ]
     },
     "execution_count": 9,
     "metadata": {},
     "output_type": "execute_result"
    }
   ],
   "source": [
    "df = pd.read_sql_query(\"\"\"\n",
    "    SELECT\n",
    "        mas.namefirst,\n",
    "        mas.namelast,\n",
    "        bat.ab AS AtBats,\n",
    "        bat.h as Hits,\n",
    "        bat.bb as BasesOnBalls,\n",
    "        bat.hbp AS HitByPitch,\n",
    "        bat.sf AS SacrificeFlies,\n",
    "        CAST(bat. h +bat.bb +bat.hbp AS FLOAT)/CAST(bat.ab+bat.bb+bat.hbp+bat.sf AS FLOAT) * 100 AS OBP_in_percent\n",
    "    FROM batting bat\n",
    "    LEFT JOIN master mas\n",
    "    ON mas.playerid = bat.playerid\n",
    "    WHERE \n",
    "        yearid=2002 AND\n",
    "        bat.hr > 0 -- otherwise OBP is not meaningful\n",
    "    ORDER BY OBP_in_percent DESC\n",
    "    LIMIT 5;\n",
    "    \"\"\", con)\n",
    "\n",
    "df\n",
    "# --> ANSWER: The player with the highest on-base percentage (and at least one homerun) \n",
    "#             in 2002 is Barry Bonds with an OBP of 58.17%."
   ]
  },
  {
   "cell_type": "markdown",
   "metadata": {},
   "source": [
    "## Q5 Which Yankees pitcher had the most wins in a season in the 00’s?"
   ]
  },
  {
   "cell_type": "code",
   "execution_count": 10,
   "metadata": {
    "ExecuteTime": {
     "end_time": "2021-05-28T13:52:38.871280Z",
     "start_time": "2021-05-28T13:52:38.799440Z"
    }
   },
   "outputs": [
    {
     "data": {
      "text/html": [
       "<div>\n",
       "<style scoped>\n",
       "    .dataframe tbody tr th:only-of-type {\n",
       "        vertical-align: middle;\n",
       "    }\n",
       "\n",
       "    .dataframe tbody tr th {\n",
       "        vertical-align: top;\n",
       "    }\n",
       "\n",
       "    .dataframe thead th {\n",
       "        text-align: right;\n",
       "    }\n",
       "</style>\n",
       "<table border=\"1\" class=\"dataframe\">\n",
       "  <thead>\n",
       "    <tr style=\"text-align: right;\">\n",
       "      <th></th>\n",
       "      <th>namefirst</th>\n",
       "      <th>namelast</th>\n",
       "      <th>team</th>\n",
       "      <th>yearid</th>\n",
       "      <th>wins</th>\n",
       "    </tr>\n",
       "  </thead>\n",
       "  <tbody>\n",
       "    <tr>\n",
       "      <th>0</th>\n",
       "      <td>Andy</td>\n",
       "      <td>Pettitte</td>\n",
       "      <td>New York Yankees</td>\n",
       "      <td>2003</td>\n",
       "      <td>21</td>\n",
       "    </tr>\n",
       "    <tr>\n",
       "      <th>1</th>\n",
       "      <td>Roger</td>\n",
       "      <td>Clemens</td>\n",
       "      <td>New York Yankees</td>\n",
       "      <td>2001</td>\n",
       "      <td>20</td>\n",
       "    </tr>\n",
       "  </tbody>\n",
       "</table>\n",
       "</div>"
      ],
      "text/plain": [
       "  namefirst  namelast              team  yearid  wins\n",
       "0      Andy  Pettitte  New York Yankees    2003    21\n",
       "1     Roger   Clemens  New York Yankees    2001    20"
      ]
     },
     "execution_count": 10,
     "metadata": {},
     "output_type": "execute_result"
    }
   ],
   "source": [
    "df = pd.read_sql_query(\"\"\"\n",
    "\n",
    "    SELECT\n",
    "        mas.namefirst,\n",
    "        mas.namelast,\n",
    "        tms.name AS Team,\n",
    "        pit.yearid AS YearID,\n",
    "        pit.w AS Wins\n",
    "    FROM pitching pit\n",
    "    JOIN teams tms\n",
    "    ON pit.teamid = tms.teamid AND pit.yearid = tms.yearid\n",
    "    JOIN master mas\n",
    "    ON mas.playerid = pit.playerid\n",
    "    WHERE\n",
    "        tms.teamid = 'NYA' AND\n",
    "        pit.yearid > 1999 AND\n",
    "        pit.yearid <2010\n",
    "    ORDER BY pit.w DESC\n",
    "    LIMIT 2;\n",
    "    \"\"\", con)\n",
    "\n",
    "df\n",
    "# --> ANSWER: This is Andy Pettitte who achieved 21 wins as pitcher for the Yankees in the year 2003."
   ]
  },
  {
   "cell_type": "markdown",
   "metadata": {},
   "source": [
    "## Which Yankees pitcher had the most wins between 1999 and 2009?"
   ]
  },
  {
   "cell_type": "code",
   "execution_count": 11,
   "metadata": {
    "ExecuteTime": {
     "end_time": "2021-05-28T13:52:38.941783Z",
     "start_time": "2021-05-28T13:52:38.874022Z"
    }
   },
   "outputs": [
    {
     "data": {
      "text/html": [
       "<div>\n",
       "<style scoped>\n",
       "    .dataframe tbody tr th:only-of-type {\n",
       "        vertical-align: middle;\n",
       "    }\n",
       "\n",
       "    .dataframe tbody tr th {\n",
       "        vertical-align: top;\n",
       "    }\n",
       "\n",
       "    .dataframe thead th {\n",
       "        text-align: right;\n",
       "    }\n",
       "</style>\n",
       "<table border=\"1\" class=\"dataframe\">\n",
       "  <thead>\n",
       "    <tr style=\"text-align: right;\">\n",
       "      <th></th>\n",
       "      <th>namefirst</th>\n",
       "      <th>namelast</th>\n",
       "      <th>sum</th>\n",
       "    </tr>\n",
       "  </thead>\n",
       "  <tbody>\n",
       "    <tr>\n",
       "      <th>0</th>\n",
       "      <td>Mike</td>\n",
       "      <td>Mussina</td>\n",
       "      <td>123.0</td>\n",
       "    </tr>\n",
       "    <tr>\n",
       "      <th>1</th>\n",
       "      <td>Andy</td>\n",
       "      <td>Pettitte</td>\n",
       "      <td>111.0</td>\n",
       "    </tr>\n",
       "    <tr>\n",
       "      <th>2</th>\n",
       "      <td>Roger</td>\n",
       "      <td>Clemens</td>\n",
       "      <td>69.0</td>\n",
       "    </tr>\n",
       "    <tr>\n",
       "      <th>3</th>\n",
       "      <td>Chien-Ming</td>\n",
       "      <td>Wang</td>\n",
       "      <td>55.0</td>\n",
       "    </tr>\n",
       "    <tr>\n",
       "      <th>4</th>\n",
       "      <td>Mariano</td>\n",
       "      <td>Rivera</td>\n",
       "      <td>45.0</td>\n",
       "    </tr>\n",
       "  </tbody>\n",
       "</table>\n",
       "</div>"
      ],
      "text/plain": [
       "    namefirst  namelast    sum\n",
       "0        Mike   Mussina  123.0\n",
       "1        Andy  Pettitte  111.0\n",
       "2       Roger   Clemens   69.0\n",
       "3  Chien-Ming      Wang   55.0\n",
       "4     Mariano    Rivera   45.0"
      ]
     },
     "execution_count": 11,
     "metadata": {},
     "output_type": "execute_result"
    }
   ],
   "source": [
    "df = pd.read_sql_query(\"\"\"\n",
    "\n",
    "    SELECT t1.namefirst, t1.namelast, sum(wins)\n",
    "    FROM\n",
    "    (SELECT\n",
    "        mas.namefirst,\n",
    "        mas.namelast,\n",
    "        tms.name AS Team,\n",
    "        pit.yearid AS YearID,\n",
    "        pit.w AS Wins\n",
    "    FROM pitching pit\n",
    "    JOIN teams tms\n",
    "    ON pit.teamid = tms.teamid AND pit.yearid = tms.yearid\n",
    "    JOIN master mas\n",
    "    ON mas.playerid = pit.playerid\n",
    "    WHERE\n",
    "        tms.teamid = 'NYA' AND\n",
    "        pit.yearid > 1999 AND\n",
    "        pit.yearid <2010) as t1\n",
    "    GROUP BY t1.namefirst, t1.namelast\n",
    "    ORDER BY sum(wins) DESC\n",
    "    LIMIT 5;\n",
    "     \"\"\", con)\n",
    "\n",
    "df\n",
    "# --> ANSWER: Mike Mussina had 123 wins between 1999 and 2009"
   ]
  },
  {
   "cell_type": "markdown",
   "metadata": {},
   "source": [
    "## Q6 In the 2000’s, did the Yankees draw more or fewer walks (Base-on-Balls or BB) as the decade went on?\n",
    "- with alternative connection"
   ]
  },
  {
   "cell_type": "code",
   "execution_count": 12,
   "metadata": {
    "ExecuteTime": {
     "end_time": "2021-05-28T13:52:39.198685Z",
     "start_time": "2021-05-28T13:52:38.944436Z"
    }
   },
   "outputs": [
    {
     "data": {
      "text/plain": [
       "[('NYA', 2000, Decimal('631')),\n",
       " ('NYA', 2001, Decimal('519')),\n",
       " ('NYA', 2002, Decimal('640')),\n",
       " ('NYA', 2003, Decimal('684')),\n",
       " ('NYA', 2004, Decimal('670')),\n",
       " ('NYA', 2005, Decimal('637')),\n",
       " ('NYA', 2006, Decimal('649')),\n",
       " ('NYA', 2007, Decimal('637')),\n",
       " ('NYA', 2008, Decimal('535')),\n",
       " ('NYA', 2009, Decimal('663'))]"
      ]
     },
     "execution_count": 12,
     "metadata": {},
     "output_type": "execute_result"
    }
   ],
   "source": [
    "# we create a connection cursor to retrieve the date with the execute function (alternative way to read_sql_query)\n",
    "with engine.connect() as con:\n",
    "    rs = con.execute(\"\"\"\n",
    "    \n",
    "    SELECT\n",
    "        teamid,\n",
    "        yearid,\n",
    "        sum(BB)\n",
    "    FROM batting \n",
    "    INNER JOIN master\n",
    "    ON master.playerid = Batting.playerid\n",
    "    WHERE\n",
    "        yearid >= 2000\n",
    "        AND\n",
    "        yearid < 2010\n",
    "        AND\n",
    "        teamID = 'NYA'\n",
    "    GROUP BY yearid, teamID;\n",
    "    \"\"\")\n",
    "    yankees = rs.fetchall()\n",
    "    \n",
    "yankees"
   ]
  },
  {
   "cell_type": "code",
   "execution_count": 13,
   "metadata": {
    "ExecuteTime": {
     "end_time": "2021-05-28T13:52:39.218487Z",
     "start_time": "2021-05-28T13:52:39.202320Z"
    }
   },
   "outputs": [
    {
     "data": {
      "text/html": [
       "<div>\n",
       "<style scoped>\n",
       "    .dataframe tbody tr th:only-of-type {\n",
       "        vertical-align: middle;\n",
       "    }\n",
       "\n",
       "    .dataframe tbody tr th {\n",
       "        vertical-align: top;\n",
       "    }\n",
       "\n",
       "    .dataframe thead th {\n",
       "        text-align: right;\n",
       "    }\n",
       "</style>\n",
       "<table border=\"1\" class=\"dataframe\">\n",
       "  <thead>\n",
       "    <tr style=\"text-align: right;\">\n",
       "      <th></th>\n",
       "      <th>Team</th>\n",
       "      <th>Year</th>\n",
       "      <th>Walks</th>\n",
       "    </tr>\n",
       "  </thead>\n",
       "  <tbody>\n",
       "    <tr>\n",
       "      <th>0</th>\n",
       "      <td>NYA</td>\n",
       "      <td>2000</td>\n",
       "      <td>631</td>\n",
       "    </tr>\n",
       "    <tr>\n",
       "      <th>1</th>\n",
       "      <td>NYA</td>\n",
       "      <td>2001</td>\n",
       "      <td>519</td>\n",
       "    </tr>\n",
       "    <tr>\n",
       "      <th>2</th>\n",
       "      <td>NYA</td>\n",
       "      <td>2002</td>\n",
       "      <td>640</td>\n",
       "    </tr>\n",
       "    <tr>\n",
       "      <th>3</th>\n",
       "      <td>NYA</td>\n",
       "      <td>2003</td>\n",
       "      <td>684</td>\n",
       "    </tr>\n",
       "    <tr>\n",
       "      <th>4</th>\n",
       "      <td>NYA</td>\n",
       "      <td>2004</td>\n",
       "      <td>670</td>\n",
       "    </tr>\n",
       "    <tr>\n",
       "      <th>5</th>\n",
       "      <td>NYA</td>\n",
       "      <td>2005</td>\n",
       "      <td>637</td>\n",
       "    </tr>\n",
       "    <tr>\n",
       "      <th>6</th>\n",
       "      <td>NYA</td>\n",
       "      <td>2006</td>\n",
       "      <td>649</td>\n",
       "    </tr>\n",
       "    <tr>\n",
       "      <th>7</th>\n",
       "      <td>NYA</td>\n",
       "      <td>2007</td>\n",
       "      <td>637</td>\n",
       "    </tr>\n",
       "    <tr>\n",
       "      <th>8</th>\n",
       "      <td>NYA</td>\n",
       "      <td>2008</td>\n",
       "      <td>535</td>\n",
       "    </tr>\n",
       "    <tr>\n",
       "      <th>9</th>\n",
       "      <td>NYA</td>\n",
       "      <td>2009</td>\n",
       "      <td>663</td>\n",
       "    </tr>\n",
       "  </tbody>\n",
       "</table>\n",
       "</div>"
      ],
      "text/plain": [
       "  Team  Year Walks\n",
       "0  NYA  2000   631\n",
       "1  NYA  2001   519\n",
       "2  NYA  2002   640\n",
       "3  NYA  2003   684\n",
       "4  NYA  2004   670\n",
       "5  NYA  2005   637\n",
       "6  NYA  2006   649\n",
       "7  NYA  2007   637\n",
       "8  NYA  2008   535\n",
       "9  NYA  2009   663"
      ]
     },
     "execution_count": 13,
     "metadata": {},
     "output_type": "execute_result"
    }
   ],
   "source": [
    "df = pd.DataFrame(yankees, columns = ['Team','Year', 'Walks'])\n",
    "df"
   ]
  },
  {
   "cell_type": "code",
   "execution_count": null,
   "metadata": {},
   "outputs": [],
   "source": []
  }
 ],
 "metadata": {
  "kernelspec": {
   "display_name": "Python 3 (ipykernel)",
   "language": "python",
   "name": "python3"
  },
  "language_info": {
   "codemirror_mode": {
    "name": "ipython",
    "version": 3
   },
   "file_extension": ".py",
   "mimetype": "text/x-python",
   "name": "python",
   "nbconvert_exporter": "python",
   "pygments_lexer": "ipython3",
   "version": "3.9.12"
  },
  "toc": {
   "base_numbering": 1,
   "nav_menu": {},
   "number_sections": true,
   "sideBar": true,
   "skip_h1_title": false,
   "title_cell": "Table of Contents",
   "title_sidebar": "Contents",
   "toc_cell": false,
   "toc_position": {},
   "toc_section_display": true,
   "toc_window_display": false
  },
  "varInspector": {
   "cols": {
    "lenName": 16,
    "lenType": 16,
    "lenVar": 40
   },
   "kernels_config": {
    "python": {
     "delete_cmd_postfix": "",
     "delete_cmd_prefix": "del ",
     "library": "var_list.py",
     "varRefreshCmd": "print(var_dic_list())"
    },
    "r": {
     "delete_cmd_postfix": ") ",
     "delete_cmd_prefix": "rm(",
     "library": "var_list.r",
     "varRefreshCmd": "cat(var_dic_list()) "
    }
   },
   "types_to_exclude": [
    "module",
    "function",
    "builtin_function_or_method",
    "instance",
    "_Feature"
   ],
   "window_display": false
  }
 },
 "nbformat": 4,
 "nbformat_minor": 2
}
